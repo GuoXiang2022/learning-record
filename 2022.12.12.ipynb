{
 "cells": [
  {
   "cell_type": "code",
   "execution_count": 2,
   "id": "cad65763",
   "metadata": {},
   "outputs": [
    {
     "name": "stdout",
     "output_type": "stream",
     "text": [
      "进行转换前date的类型为： object\n",
      "进行转换后date的类型为： datetime64[ns]\n"
     ]
    }
   ],
   "source": [
    "import pandas as pd\n",
    "musicdata = pd.read_table('musicdata.csv', sep=',', encoding='gbk') \n",
    "# 输出转换前的原始date列的类型\n",
    "print('进行转换前date的类型为：', musicdata['date'].dtypes)\n",
    "# 使用to_datetime函数将data列的数据类型转换成标准时间类型\n",
    "musicdata['date'] = pd.to_datetime(musicdata['date'])\n",
    "print('进行转换后date的类型为：', musicdata['date'].dtypes)\n"
   ]
  },
  {
   "cell_type": "markdown",
   "id": "8b5bbb2d",
   "metadata": {},
   "source": [
    "print('最小时间为：', pd.Timestamp.min)  # 查询计算机中最早的时间信息\n",
    "print('最大时间为：', pd.Timestamp.max)  # 查询计算机中最晚的时间信息"
   ]
  },
  {
   "cell_type": "code",
   "execution_count": 27,
   "id": "136776c3",
   "metadata": {},
   "outputs": [
    {
     "name": "stdout",
     "output_type": "stream",
     "text": [
      "转换为DatetimeIndex后数据的类型为：\n",
      " <class 'pandas.core.indexes.datetimes.DatetimeIndex'>\n",
      "转换为PeriodIndex后数据的类型为：\n",
      " <class 'pandas.core.indexes.period.PeriodIndex'>\n"
     ]
    }
   ],
   "source": [
    "# 将data列数据格式转换成DatetimeIndex格式\n",
    "dateIndex = pd.DatetimeIndex(musicdata['date'])\n",
    "print('转换为DatetimeIndex后数据的类型为：\\n', type(dateIndex))\n",
    "\n",
    "# 将data列数据格式转换成PeriodIndex格式\n",
    "periodIndex = pd.PeriodIndex(musicdata['date'], freq='S')\n",
    "print('转换为PeriodIndex后数据的类型为：\\n', type(periodIndex))\n"
   ]
  },
  {
   "cell_type": "code",
   "execution_count": 28,
   "id": "b8353ed4",
   "metadata": {},
   "outputs": [
    {
     "name": "stdout",
     "output_type": "stream",
     "text": [
      "date中的年份数据前5个为： [2020, 2020, 2020, 2020, 2020]\n",
      "date中的月份数据前5个为： [7, 7, 7, 6, 6]\n",
      "date中的日期数据前5个为： [31, 23, 13, 30, 23]\n"
     ]
    }
   ],
   "source": [
    "#提取数据中的年、月、日\n",
    "year1 = [i.year for i in musicdata['date']]\n",
    "print('date中的年份数据前5个为：', year1[:5])\n",
    "month1 = [i.month for i in musicdata['date']]\n",
    "print('date中的月份数据前5个为：', month1[:5])\n",
    "day1 = [i.day for i in musicdata['date']]\n",
    "print('date中的日期数据前5个为：', day1[:5])\n"
   ]
  },
  {
   "cell_type": "code",
   "execution_count": 29,
   "id": "f4c99994",
   "metadata": {},
   "outputs": [
    {
     "name": "stdout",
     "output_type": "stream",
     "text": [
      "dateIndex中的星期标号数据前5个为：\n",
      " Int64Index([4, 3, 0, 1, 1], dtype='int64', name='date')\n",
      "periodIndex中的星期标号数据前5个为： Int64Index([4, 3, 0, 1, 1], dtype='int64', name='date')\n"
     ]
    }
   ],
   "source": [
    "# 提取DatetimeIndex中的前5个星期标号数据\n",
    "print('dateIndex中的星期标号数据前5个为：\\n',dateIndex.weekday[:5])      \n",
    "# 提取PeriodIndex中的前5个星期标号数据\n",
    "print('periodIndex中的星期标号数据前5个为：',periodIndex.weekday[:5])"
   ]
  },
  {
   "cell_type": "code",
   "execution_count": 4,
   "id": "cf758ccb",
   "metadata": {},
   "outputs": [
    {
     "name": "stdout",
     "output_type": "stream",
     "text": [
      "date加上一天前前5行数据为：\n",
      " 0   2020-07-31 22:01:00\n",
      "1   2020-07-23 06:12:00\n",
      "2   2020-07-13 09:30:00\n",
      "3   2020-06-30 14:26:00\n",
      "4   2020-06-23 20:21:00\n",
      "Name: date, dtype: datetime64[ns]\n",
      "date加上一天前前5行数据为：\n",
      " 0   2020-07-30 22:01:00\n",
      "1   2020-07-22 06:12:00\n",
      "2   2020-07-12 09:30:00\n",
      "3   2020-06-29 14:26:00\n",
      "4   2020-06-22 20:21:00\n",
      "Name: date, dtype: datetime64[ns]\n"
     ]
    }
   ],
   "source": [
    "# 将date数据向后平移一天\n",
    "time1 = musicdata['date'] - pd.Timedelta(days=1) \n",
    "print('date加上一天前前5行数据为：\\n', musicdata['date'][:5])\n",
    "print('date加上一天前前5行数据为：\\n', time1[:5])\n"
   ]
  },
  {
   "cell_type": "code",
   "execution_count": 32,
   "id": "4f049667",
   "metadata": {},
   "outputs": [
    {
     "name": "stdout",
     "output_type": "stream",
     "text": [
      "date减去2020年1月1日0点0时0分后的数据：\n",
      " 0   212 days 22:01:00\n",
      "1   204 days 06:12:00\n",
      "2   194 days 09:30:00\n",
      "3   181 days 14:26:00\n",
      "4   174 days 20:21:00\n",
      "Name: date, dtype: timedelta64[ns]\n",
      "date减去time1后的数据类型为： timedelta64[ns]\n"
     ]
    }
   ],
   "source": [
    "# 将data数据与指定的时间数据进行相减\n",
    "timeDelta = musicdata['date'] - pd.to_datetime('2020-1-1')\n",
    "print('date减去2020年1月1日0点0时0分后的数据：\\n', timeDelta[:5])\n",
    "print('date减去time1后的数据类型为：', timeDelta.dtypes)\n"
   ]
  },
  {
   "cell_type": "code",
   "execution_count": 33,
   "id": "2b95571a",
   "metadata": {},
   "outputs": [
    {
     "name": "stdout",
     "output_type": "stream",
     "text": [
      "分组后的音乐行业收入信息表为: <pandas.core.groupby.generic.DataFrameGroupBy object at 0x00000141D6E30340>\n"
     ]
    }
   ],
   "source": [
    "import pandas as pd\n",
    "musicdata = pd.read_csv('musicdata.csv')\n",
    "\n",
    "musicdataGroup = musicdata[['format', 'metric', 'value_actual']].groupby(by='format')\n",
    "print('分组后的音乐行业收入信息表为:', musicdataGroup)\n"
   ]
  },
  {
   "cell_type": "code",
   "execution_count": 34,
   "id": "e7a7634f",
   "metadata": {},
   "outputs": [
    {
     "name": "stdout",
     "output_type": "stream",
     "text": [
      "音乐行业收入信息表分组后前5组每组的均值为：\n",
      "                  value_actual\n",
      "format                       \n",
      "8 - Track          511.177231\n",
      "CD                4733.432621\n",
      "CD Single           45.346843\n",
      "Cassette          1403.643775\n",
      "Cassette Single    126.793441\n",
      "音乐行业收入信息表分组后前5组每组的标准差为：\n",
      "                  value_actual\n",
      "format                       \n",
      "8 - Track          984.411165\n",
      "CD                5645.536764\n",
      "CD Single           85.966719\n",
      "Cassette          1919.217701\n",
      "Cassette Single    158.928097\n",
      "音乐行业收入信息表分组后前5组每组的大小为：\n",
      " format\n",
      "8 - Track          141\n",
      "CD                 141\n",
      "CD Single          141\n",
      "Cassette           141\n",
      "Cassette Single    141\n",
      "dtype: int64\n"
     ]
    }
   ],
   "source": [
    "print('音乐行业收入信息表分组后前5组每组的均值为：\\n', musicdataGroup.mean(). head())\n",
    "\n",
    "print('音乐行业收入信息表分组后前5组每组的标准差为：\\n', musicdataGroup.std().head())\n",
    "\n",
    "print('音乐行业收入信息表分组后前5组每组的大小为：\\n', musicdataGroup.size().head())\n"
   ]
  },
  {
   "cell_type": "code",
   "execution_count": 35,
   "id": "8003cf19",
   "metadata": {},
   "outputs": [
    {
     "name": "stdout",
     "output_type": "stream",
     "text": [
      "音乐销售价格的总和与均值为：\n",
      "       number_of_records  value_actual\n",
      "sum              3008.0  1.055524e+06\n",
      "mean                1.0  7.812912e+02\n"
     ]
    }
   ],
   "source": [
    "import numpy as np\n",
    "print('音乐销售价格的总和与均值为：\\n',\n",
    "      musicdata[['number_of_records', 'value_actual']].agg([np.sum, np.mean]))"
   ]
  },
  {
   "cell_type": "code",
   "execution_count": 36,
   "id": "755db540",
   "metadata": {},
   "outputs": [
    {
     "name": "stdout",
     "output_type": "stream",
     "text": [
      "音乐行业收入信息表中各类型音乐产品销售数量总和与售价的均值为：\n",
      " number_of_records    3008.000000\n",
      "value_actual          781.291237\n",
      "dtype: float64\n"
     ]
    }
   ],
   "source": [
    "print('音乐行业收入信息表中各类型音乐产品销售数量总和与售价的均值为：\\n',\n",
    "      musicdata.agg({'number_of_records': np.sum, 'value_actual': np.mean}))"
   ]
  },
  {
   "cell_type": "code",
   "execution_count": 37,
   "id": "58d914e1",
   "metadata": {},
   "outputs": [
    {
     "name": "stdout",
     "output_type": "stream",
     "text": [
      "音乐行业收入信息表中各类型音乐产品销售数量总和与售价的均值为：\n",
      "       number_of_records  value_actual\n",
      "sum              3008.0  1.055524e+06\n",
      "mean                NaN  7.812912e+02\n"
     ]
    }
   ],
   "source": [
    "print('音乐行业收入信息表中各类型音乐产品销售数量总和与售价的均值为：\\n',\n",
    "      musicdata.agg({'number_of_records': np.sum, 'value_actual': [np.mean, np.sum]}))"
   ]
  },
  {
   "cell_type": "code",
   "execution_count": 38,
   "id": "b4f9098d",
   "metadata": {},
   "outputs": [
    {
     "name": "stdout",
     "output_type": "stream",
     "text": [
      "音乐行业收入信息表的实际销售价格两倍总和为：\n",
      " value_actual    2.111049e+06\n",
      "dtype: float64\n"
     ]
    }
   ],
   "source": [
    "# 自定义函数求两倍的和\n",
    "def DoubleSum(data):\n",
    "     s = data.sum() * 2\n",
    "     return s\n",
    "print('音乐行业收入信息表的实际销售价格两倍总和为：\\n',\n",
    "      musicdata.agg({'value_actual': DoubleSum}, axis=0))"
   ]
  },
  {
   "cell_type": "code",
   "execution_count": 39,
   "id": "ad504aa2",
   "metadata": {},
   "outputs": [
    {
     "name": "stdout",
     "output_type": "stream",
     "text": [
      "音乐行业收入信息表的销售数量两倍总和为：\n",
      "    number_of_records\n",
      "0                  2\n",
      "1                  2\n",
      "2                  2\n",
      "3                  2\n",
      "4                  2\n",
      "音乐行业收入信息表记录售卖量与实际售价的和的两倍为：\n",
      " number_of_records    6.016000e+03\n",
      "value_actual         2.111049e+06\n",
      "dtype: float64\n"
     ]
    }
   ],
   "source": [
    "# 自定义函数求两倍的和\n",
    "def DoubleSum1(data):\n",
    "    s = np.sum(data) * 2\n",
    "    return s\n",
    "print('音乐行业收入信息表的销售数量两倍总和为：\\n',\n",
    "      musicdata.agg({'number_of_records': DoubleSum1}, axis=0).head())\n",
    "\n",
    "print('音乐行业收入信息表记录售卖量与实际售价的和的两倍为：\\n',\n",
    "      musicdata[['number_of_records', 'value_actual']].agg(DoubleSum1))"
   ]
  },
  {
   "cell_type": "code",
   "execution_count": 40,
   "id": "05d56edd",
   "metadata": {},
   "outputs": [
    {
     "name": "stdout",
     "output_type": "stream",
     "text": [
      "音乐行业收入信息表分组后前3组每组的均值为：\n",
      "            value_actual\n",
      "format                 \n",
      "8 - Track    511.177231\n",
      "CD          4733.432621\n",
      "CD Single     45.346843\n",
      "音乐行业收入信息表分组后前3组每组的标准差为：\n",
      "            value_actual\n",
      "format                 \n",
      "8 - Track    984.411165\n",
      "CD          5645.536764\n",
      "CD Single     85.966719\n"
     ]
    }
   ],
   "source": [
    "print('音乐行业收入信息表分组后前3组每组的均值为：\\n', \n",
    "      musicdataGroup.agg(np.mean).head(3))\n",
    "\n",
    "print('音乐行业收入信息表分组后前3组每组的标准差为：\\n', \n",
    "      musicdataGroup.agg(np.std).head(3))"
   ]
  },
  {
   "cell_type": "code",
   "execution_count": 41,
   "id": "76b7ad04",
   "metadata": {},
   "outputs": [
    {
     "name": "stdout",
     "output_type": "stream",
     "text": [
      "音乐行业收入信息表分组前3组每种销售形式的记录数和销售价格均值为：\n",
      "                value_actual             \n",
      "          number_of_records value_actual\n",
      "format                                  \n",
      "8 - Track                59   511.177231\n",
      "CD                      111  4733.432621\n",
      "CD Single                96    45.346843\n"
     ]
    },
    {
     "name": "stderr",
     "output_type": "stream",
     "text": [
      "C:\\Users\\85109\\AppData\\Local\\Temp\\ipykernel_18408\\481833110.py:2: FutureWarning: ['metric'] did not aggregate successfully. If any error is raised this will raise in a future version of pandas. Drop these columns/ops to avoid this warning.\n",
      "  musicdataGroup.agg([('number_of_records', 'count'),\n"
     ]
    }
   ],
   "source": [
    "print('音乐行业收入信息表分组前3组每种销售形式的记录数和销售价格均值为：\\n',\n",
    "      musicdataGroup.agg([('number_of_records', 'count'), \n",
    "                          ('value_actual', 'mean')]).head(3))"
   ]
  },
  {
   "cell_type": "code",
   "execution_count": 42,
   "id": "c4cc07a9",
   "metadata": {},
   "outputs": [
    {
     "name": "stdout",
     "output_type": "stream",
     "text": [
      "音乐行业收入信息表的销售数量和销售价格均值为：\n",
      " number_of_records      1.000000\n",
      "value_actual         781.291237\n",
      "dtype: float64\n"
     ]
    }
   ],
   "source": [
    "print('音乐行业收入信息表的销售数量和销售价格均值为：\\n',    \n",
    "      musicdata[['number_of_records', 'value_actual']].apply(np.mean))"
   ]
  },
  {
   "cell_type": "code",
   "execution_count": 43,
   "id": "be969fe8",
   "metadata": {},
   "outputs": [
    {
     "name": "stdout",
     "output_type": "stream",
     "text": [
      "音乐行业收入信息表分组后前3组每组的均值为： \n",
      "            value_actual\n",
      "format                 \n",
      "8 - Track    511.177231\n",
      "CD          4733.432621\n",
      "CD Single     45.346843\n",
      "音乐行业收入信息表分组后前3组每组的标准差为： \n",
      "            value_actual\n",
      "format                 \n",
      "8 - Track    976.033045\n",
      "CD          5620.048883\n",
      "CD Single     85.517803\n"
     ]
    },
    {
     "name": "stderr",
     "output_type": "stream",
     "text": [
      "D:\\Anaconda3\\Anaconda3\\lib\\site-packages\\numpy\\core\\fromnumeric.py:3438: FutureWarning: In a future version, DataFrame.mean(axis=None) will return a scalar mean over the entire DataFrame. To retain the old behavior, use 'frame.mean(axis=0)' or just 'frame.mean()'\n",
      "  return mean(axis=axis, dtype=dtype, out=out, **kwargs)\n",
      "D:\\Anaconda3\\Anaconda3\\lib\\site-packages\\numpy\\core\\fromnumeric.py:3438: FutureWarning: Dropping of nuisance columns in DataFrame reductions (with 'numeric_only=None') is deprecated; in a future version this will raise TypeError.  Select only valid columns before calling the reduction.\n",
      "  return mean(axis=axis, dtype=dtype, out=out, **kwargs)\n",
      "D:\\Anaconda3\\Anaconda3\\lib\\site-packages\\numpy\\core\\fromnumeric.py:3579: FutureWarning: Dropping of nuisance columns in DataFrame reductions (with 'numeric_only=None') is deprecated; in a future version this will raise TypeError.  Select only valid columns before calling the reduction.\n",
      "  return std(axis=axis, dtype=dtype, out=out, ddof=ddof, **kwargs)\n"
     ]
    }
   ],
   "source": [
    "print('音乐行业收入信息表分组后前3组每组的均值为：','\\n', \n",
    "      musicdataGroup.apply(np.mean).head(3))\n",
    "\n",
    "print('音乐行业收入信息表分组后前3组每组的标准差为：','\\n', \n",
    "      musicdataGroup.apply(np.std).head(3))"
   ]
  },
  {
   "cell_type": "code",
   "execution_count": 44,
   "id": "b83339a3",
   "metadata": {},
   "outputs": [
    {
     "name": "stdout",
     "output_type": "stream",
     "text": [
      "音乐行业收入信息表销售数量和销售价格的两倍为：\n",
      "    number_of_records  value_actual\n",
      "0                  2           NaN\n",
      "1                  2           NaN\n",
      "2                  2           NaN\n",
      "3                  2           NaN\n"
     ]
    }
   ],
   "source": [
    "print('音乐行业收入信息表销售数量和销售价格的两倍为：\\n',\n",
    "      musicdata[['number_of_records', 'value_actual']].transform(\n",
    "            lambda x: x * 2).head(4))"
   ]
  },
  {
   "cell_type": "code",
   "execution_count": 45,
   "id": "02411f62",
   "metadata": {},
   "outputs": [
    {
     "name": "stdout",
     "output_type": "stream",
     "text": [
      "音乐行业收入信息表分组后实现组内离差标准化后前5行为：\n",
      "    value_actual\n",
      "0      0.240644\n",
      "1      0.240644\n",
      "2      0.240644\n",
      "3      0.240644\n",
      "4      0.240644\n"
     ]
    },
    {
     "name": "stderr",
     "output_type": "stream",
     "text": [
      "C:\\Users\\85109\\AppData\\Local\\Temp\\ipykernel_18408\\3233972702.py:2: FutureWarning: Dropping invalid columns in DataFrameGroupBy.transform is deprecated. In a future version, a TypeError will be raised. Before calling .transform, select only columns which should be valid for the function.\n",
      "  musicdataGroup.transform(lambda x: (x.mean()\n"
     ]
    }
   ],
   "source": [
    "print('音乐行业收入信息表分组后实现组内离差标准化后前5行为：\\n', \n",
    "      musicdataGroup.transform(lambda x: (x.mean()\n",
    "             - x.min()) / (x.max() - x.min())).head())"
   ]
  },
  {
   "cell_type": "code",
   "execution_count": null,
   "id": "3e5d2eb6",
   "metadata": {},
   "outputs": [],
   "source": [
    "import pandas as pd\n",
    "musicdata = pd.read_csv('musicdata.csv')\n",
    "\n",
    "musicdataPivot = pd.pivot_table(musicdata[[\n",
    "      'format', 'number_of_records', 'value_actual']],\n",
    "      index='format')\n",
    "print('以foramt作为分组键创建的订单透视表为：\\n', musicdataPivot.head())"
   ]
  },
  {
   "cell_type": "code",
   "execution_count": null,
   "id": "de5137cf",
   "metadata": {},
   "outputs": [],
   "source": [
    "import numpy as np\n",
    "musicdataPivot1 = pd.pivot_table(musicdata[[\n",
    "      'format', 'number_of_records', 'value_actual']],\n",
    "      index='format', aggfunc=np.sum)\n",
    "print('以format作为分组键创建的销售数量与实际销售加工总和透视表为：\\n',\n",
    "       musicdataPivot1.head())"
   ]
  },
  {
   "cell_type": "code",
   "execution_count": null,
   "id": "723b68ef",
   "metadata": {},
   "outputs": [],
   "source": [
    "musicdataPivot2 = pd.pivot_table(musicdata[[\n",
    "      'format', 'metric', \n",
    "      'number_of_records', 'value_actual']],\n",
    "      index=['format', 'metric'],\n",
    "      aggfunc=np.sum)\n",
    "print('以format和metric作为分组键创建的销售数量/与销售价格总和透视表为：\\n', \n",
    "      musicdataPivot2.head())"
   ]
  },
  {
   "cell_type": "code",
   "execution_count": 6,
   "id": "d2da54a5",
   "metadata": {},
   "outputs": [
    {
     "name": "stdout",
     "output_type": "stream",
     "text": [
      "以format和metric作为行列分组键创建的透视表前5行4列为：\n",
      "                 number_of_records                         value_actual\n",
      "metric                      Units Value Value (Adjusted)         Units\n",
      "format                                                                \n",
      "8 - Track                    47.0  47.0             47.0    900.300000\n",
      "CD                           47.0  47.0             47.0  14802.624448\n",
      "CD Single                    47.0  47.0             47.0    357.718686\n",
      "Cassette                     47.0  47.0             47.0   6194.300000\n",
      "Cassette Single              47.0  47.0             47.0    724.200000\n"
     ]
    }
   ],
   "source": [
    "musicdataPivot3 = pd.pivot_table(musicdata[[\n",
    "      'format', 'metric', 'number_of_records', 'value_actual']],\n",
    "      index='format', columns='metric', aggfunc=np.sum)\n",
    "print('以format和metric作为行列分组键创建的透视表前5行4列为：\\n',\n",
    "      musicdataPivot3.iloc[:5, :4])"
   ]
  },
  {
   "cell_type": "code",
   "execution_count": 7,
   "id": "f0bc4c86",
   "metadata": {},
   "outputs": [
    {
     "name": "stdout",
     "output_type": "stream",
     "text": [
      "以format作为行分组键value_actual作为值创建的透视表前5行为：\n",
      "                   value_actual\n",
      "format                        \n",
      "8 - Track         30159.456658\n",
      "CD               525411.020880\n",
      "CD Single          4353.296903\n",
      "Cassette         157208.102797\n",
      "Cassette Single    7227.226130\n"
     ]
    }
   ],
   "source": [
    "musicdataPivot4 = pd.pivot_table(musicdata[[\n",
    "      'format', 'metric', 'number_of_records', 'value_actual']],\n",
    "      index = 'format', values='value_actual', aggfunc=np.sum)\n",
    "print('以format作为行分组键value_actual作为值创建的透视表前5行为：\\n', \n",
    "      musicdataPivot4.head())"
   ]
  },
  {
   "cell_type": "code",
   "execution_count": 51,
   "id": "7842a1e3",
   "metadata": {},
   "outputs": [
    {
     "name": "stdout",
     "output_type": "stream",
     "text": [
      "空值填0后以format和metric为行列分组键创建透视表前5行4列为：\n",
      "                 number_of_records                         value_actual\n",
      "metric                      Units Value Value (Adjusted)         Units\n",
      "format                                                                \n",
      "8 - Track                      47    47               47    900.300000\n",
      "CD                             47    47               47  14802.624448\n",
      "CD Single                      47    47               47    357.718686\n",
      "Cassette                       47    47               47   6194.300000\n",
      "Cassette Single                47    47               47    724.200000\n"
     ]
    }
   ],
   "source": [
    "musicdataPivot5 = pd.pivot_table(musicdata[[\n",
    "      'format', 'metric', 'number_of_records', 'value_actual']],\n",
    "      index='format', columns='metric', aggfunc=np.sum, fill_value=0)\n",
    "print('空值填0后以format和metric为行列分组键创建透视表前5行4列为：\\n', \n",
    "      musicdataPivot5.iloc[:5, :4])"
   ]
  },
  {
   "cell_type": "code",
   "execution_count": 52,
   "id": "a378cf8d",
   "metadata": {},
   "outputs": [
    {
     "name": "stdout",
     "output_type": "stream",
     "text": [
      "添加margins后以format和metric为分组键的透视表前5行后4列为：\n",
      "                  value_actual                                               \n",
      "metric                  Units          Value Value (Adjusted)            All\n",
      "format                                                                      \n",
      "8 - Track          900.300000    5618.700000     23640.456658   30159.456658\n",
      "CD               14802.624448  205083.959093    305524.437339  525411.020880\n",
      "CD Single          357.718686    1549.562534      2446.015682    4353.296903\n",
      "Cassette          6194.300000   48701.700000    102312.102797  157208.102797\n",
      "Cassette Single    724.200000    2325.900000      4177.126130    7227.226130\n"
     ]
    }
   ],
   "source": [
    "musicdataPivot6 = pd.pivot_table(musicdata[[\n",
    "      'format', 'metric', 'number_of_records', 'value_actual']],\n",
    "      index='format', columns='metric', aggfunc=np.sum,\n",
    "      fill_value=0, margins=True)\n",
    "print('添加margins后以format和metric为分组键的透视表前5行后4列为：\\n',\n",
    "      musicdataPivot6.iloc[:5, -4:])\n",
    " "
   ]
  },
  {
   "cell_type": "code",
   "execution_count": 53,
   "id": "ff1f51bb",
   "metadata": {},
   "outputs": [
    {
     "name": "stdout",
     "output_type": "stream",
     "text": [
      "以format和metric为分组键value_actual为值的透视表前5行4列为：\n",
      " metric                  Units          Value  Value (Adjusted)\n",
      "format                                                        \n",
      "8 - Track          900.300000    5618.700000      23640.456658\n",
      "CD               14802.624448  205083.959093     305524.437339\n",
      "CD Single          357.718686    1549.562534       2446.015682\n",
      "Cassette          6194.300000   48701.700000     102312.102797\n",
      "Cassette Single    724.200000    2325.900000       4177.126130\n"
     ]
    }
   ],
   "source": [
    "musicdataCross = pd.crosstab(index=musicdata['format'],\n",
    "      columns=musicdata['metric'],\n",
    "      values=musicdata['value_actual'], aggfunc = np.sum)\n",
    "print('以format和metric为分组键value_actual为值的透视表前5行4列为：\\n', \n",
    "      musicdataCross.iloc[:5, :4])"
   ]
  },
  {
   "cell_type": "code",
   "execution_count": null,
   "id": "ed9ed026",
   "metadata": {},
   "outputs": [],
   "source": []
  }
 ],
 "metadata": {
  "kernelspec": {
   "display_name": "Python 3 (ipykernel)",
   "language": "python",
   "name": "python3"
  },
  "language_info": {
   "codemirror_mode": {
    "name": "ipython",
    "version": 3
   },
   "file_extension": ".py",
   "mimetype": "text/x-python",
   "name": "python",
   "nbconvert_exporter": "python",
   "pygments_lexer": "ipython3",
   "version": "3.9.13"
  }
 },
 "nbformat": 4,
 "nbformat_minor": 5
}
